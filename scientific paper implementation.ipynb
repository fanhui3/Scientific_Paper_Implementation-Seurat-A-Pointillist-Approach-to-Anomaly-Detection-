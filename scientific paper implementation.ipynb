{
 "cells": [
  {
   "cell_type": "code",
   "execution_count": 2,
   "id": "98328e19",
   "metadata": {},
   "outputs": [],
   "source": [
    "import pandas as pd\n",
    "import seaborn as sns\n",
    "import numpy as np\n",
    "import matplotlib.pyplot as plt\n",
    "from sklearn.cluster import KMeans"
   ]
  },
  {
   "cell_type": "code",
   "execution_count": null,
   "id": "d0b58f3e",
   "metadata": {},
   "outputs": [],
   "source": [
    "sklearn.cluster.KMeans"
   ]
  },
  {
   "cell_type": "markdown",
   "id": "418fb562",
   "metadata": {},
   "source": [
    "# A Pointillist Approach to Anomaly Detection \n",
    "Broad idea:\n",
    "- Convert activities to point on via wavelet transformation\n",
    "- On trained clustered data point, check whether the new point fit in existing clusters, or form a cluster of its own"
   ]
  },
  {
   "cell_type": "markdown",
   "id": "f95b8f44",
   "metadata": {},
   "source": [
    "## 1) Create wavelet transforming function"
   ]
  },
  {
   "cell_type": "code",
   "execution_count": 55,
   "id": "661c43e6",
   "metadata": {},
   "outputs": [],
   "source": [
    "def encode(value):\n",
    "    # dummy code: signal = convert value into 2 digit signal \n",
    "    return str(value)"
   ]
  },
  {
   "cell_type": "code",
   "execution_count": 48,
   "id": "23e2d47a",
   "metadata": {},
   "outputs": [],
   "source": [
    "def wavelet_transformation(time, host, activity, file_size):\n",
    "    #encoding features into signal\n",
    "    encoded_signal = encode(time) + encode(host) + encode(activity) + encode(activity)\n",
    "    encoded_signal = \"14382614\" #encoded signal\n",
    "    \n",
    "    #create approximation space and detaied space\n",
    "    n_level = 3 #number of transformation\n",
    "    approximation = \"\" #empty approxmated space \n",
    "    detailed = \"\" #empty detailed sapce\n",
    "    final= \"\" #final transformation\n",
    "#     for n in range(0,(n_level+1)):\n",
    "#         #get approximation space\n",
    "#         for i in range(0,len(encoded_signal), 2):\n",
    "#             mean = str(int(int(encoded_signal[i]) + int(encoded_signal[i+1])/ 2))\n",
    "#             approximation += mean \n",
    "#             encoded_signal = approximation #the approximated space is passed for next level of transformation\n",
    "\n",
    "#         for i in approximation:\n",
    "#             dist_fr_mean = str(0#get postive distance from the 2 corresponding value\n",
    "#             detailed += dist_fr_mean\n",
    "#         n += 1\n",
    "\n",
    "#         if n < n_level: \n",
    "#             final = detailed + final #park the detailed space in the final tranformed signal\n",
    "#         if n == n_level:\n",
    "#             final = encoded_signal + detailed + final\n",
    "    return 43121015\n",
    "    "
   ]
  },
  {
   "cell_type": "markdown",
   "id": "b791e064",
   "metadata": {},
   "source": [
    "## 2) received activity, proceed to transform to wavelet figure"
   ]
  },
  {
   "cell_type": "code",
   "execution_count": 50,
   "id": "664cd334",
   "metadata": {},
   "outputs": [
    {
     "data": {
      "text/plain": [
       "43121015"
      ]
     },
     "execution_count": 50,
     "metadata": {},
     "output_type": "execute_result"
    }
   ],
   "source": [
    "new_signal = wavelet_transformation(\"dummy\", \"dummy\", \"dummy\",\"dummy\")\n",
    "new_signal"
   ]
  },
  {
   "cell_type": "markdown",
   "id": "145d9172",
   "metadata": {},
   "source": [
    "## 3) create new dataset with the new signal added to the training dataset"
   ]
  },
  {
   "cell_type": "code",
   "execution_count": 51,
   "id": "c8ff301c",
   "metadata": {},
   "outputs": [],
   "source": [
    "df = \"list of encoded activities in the past\""
   ]
  },
  {
   "cell_type": "code",
   "execution_count": 53,
   "id": "36462f6c",
   "metadata": {},
   "outputs": [],
   "source": [
    "#append new signal to old activities\n",
    "\n",
    "df_new = 0#df.concat(new_signal, axis\"index\")"
   ]
  },
  {
   "cell_type": "markdown",
   "id": "2ee380d2",
   "metadata": {},
   "source": [
    "## 4a) Find the optimal elbow for kmean clusters for just the past activities "
   ]
  },
  {
   "cell_type": "code",
   "execution_count": 40,
   "id": "cb54cb9a",
   "metadata": {},
   "outputs": [
    {
     "ename": "NameError",
     "evalue": "name 'X' is not defined",
     "output_type": "error",
     "traceback": [
      "\u001b[1;31m---------------------------------------------------------------------------\u001b[0m",
      "\u001b[1;31mNameError\u001b[0m                                 Traceback (most recent call last)",
      "\u001b[1;32m<ipython-input-40-96a7206edcf0>\u001b[0m in \u001b[0;36m<module>\u001b[1;34m\u001b[0m\n\u001b[0;32m      2\u001b[0m \u001b[1;32mfor\u001b[0m \u001b[0mi\u001b[0m \u001b[1;32min\u001b[0m \u001b[0mrange\u001b[0m\u001b[1;33m(\u001b[0m\u001b[1;36m1\u001b[0m\u001b[1;33m,\u001b[0m \u001b[1;36m11\u001b[0m\u001b[1;33m)\u001b[0m\u001b[1;33m:\u001b[0m\u001b[1;33m\u001b[0m\u001b[1;33m\u001b[0m\u001b[0m\n\u001b[0;32m      3\u001b[0m     \u001b[0mkmeans\u001b[0m \u001b[1;33m=\u001b[0m \u001b[0mKMeans\u001b[0m\u001b[1;33m(\u001b[0m\u001b[0mn_clusters\u001b[0m \u001b[1;33m=\u001b[0m \u001b[0mi\u001b[0m\u001b[1;33m,\u001b[0m \u001b[0minit\u001b[0m \u001b[1;33m=\u001b[0m \u001b[1;34m'k-means++'\u001b[0m\u001b[1;33m,\u001b[0m \u001b[0mrandom_state\u001b[0m \u001b[1;33m=\u001b[0m \u001b[1;36m42\u001b[0m\u001b[1;33m)\u001b[0m\u001b[1;33m\u001b[0m\u001b[1;33m\u001b[0m\u001b[0m\n\u001b[1;32m----> 4\u001b[1;33m     \u001b[0mkmeans\u001b[0m\u001b[1;33m.\u001b[0m\u001b[0mfit\u001b[0m\u001b[1;33m(\u001b[0m\u001b[0mX\u001b[0m\u001b[1;33m)\u001b[0m\u001b[1;33m\u001b[0m\u001b[1;33m\u001b[0m\u001b[0m\n\u001b[0m\u001b[0;32m      5\u001b[0m     \u001b[0mwcss\u001b[0m\u001b[1;33m.\u001b[0m\u001b[0mappend\u001b[0m\u001b[1;33m(\u001b[0m\u001b[0mkmeans\u001b[0m\u001b[1;33m.\u001b[0m\u001b[0minertia_\u001b[0m\u001b[1;33m)\u001b[0m\u001b[1;33m\u001b[0m\u001b[1;33m\u001b[0m\u001b[0m\n\u001b[0;32m      6\u001b[0m \u001b[0mplt\u001b[0m\u001b[1;33m.\u001b[0m\u001b[0mplot\u001b[0m\u001b[1;33m(\u001b[0m\u001b[0mrange\u001b[0m\u001b[1;33m(\u001b[0m\u001b[1;36m1\u001b[0m\u001b[1;33m,\u001b[0m \u001b[1;36m11\u001b[0m\u001b[1;33m)\u001b[0m\u001b[1;33m,\u001b[0m \u001b[0mwcss\u001b[0m\u001b[1;33m)\u001b[0m\u001b[1;33m\u001b[0m\u001b[1;33m\u001b[0m\u001b[0m\n",
      "\u001b[1;31mNameError\u001b[0m: name 'X' is not defined"
     ]
    }
   ],
   "source": [
    "wcss = []\n",
    "for i in range(1, 11):\n",
    "    kmeans = KMeans(n_clusters = i, init = 'k-means++', random_state = 42)\n",
    "    kmeans.fit(df)\n",
    "    wcss.append(kmeans.inertia_)\n",
    "plt.plot(range(1, 11), wcss)\n",
    "plt.title('The Elbow Method')\n",
    "plt.xlabel('Number of clusters')\n",
    "plt.ylabel('WCSS')\n",
    "plt.show()"
   ]
  },
  {
   "cell_type": "markdown",
   "id": "bcd2d5a5",
   "metadata": {},
   "source": [
    "## 4b) Find the optimal elbow for kmean clusters for activities with new signal append"
   ]
  },
  {
   "cell_type": "code",
   "execution_count": null,
   "id": "b13912f7",
   "metadata": {},
   "outputs": [],
   "source": [
    "wcss = []\n",
    "for i in range(1, 11):\n",
    "    kmeans = KMeans(n_clusters = i, init = 'k-means++', random_state = 42)\n",
    "    kmeans.fit(df)\n",
    "    wcss.append(kmeans.inertia_)\n",
    "plt.plot(range(1, 11), wcss)\n",
    "plt.title('The Elbow Method')\n",
    "plt.xlabel('Number of clusters')\n",
    "plt.ylabel('WCSS')\n",
    "plt.show()"
   ]
  },
  {
   "cell_type": "markdown",
   "id": "47450130",
   "metadata": {},
   "source": [
    "## Conclusion: if the optimal k clusters changes with the inclusion of new point, an abnormal activity is detected and had created a cluster of its own "
   ]
  }
 ],
 "metadata": {
  "kernelspec": {
   "display_name": "Python 3",
   "language": "python",
   "name": "python3"
  },
  "language_info": {
   "codemirror_mode": {
    "name": "ipython",
    "version": 3
   },
   "file_extension": ".py",
   "mimetype": "text/x-python",
   "name": "python",
   "nbconvert_exporter": "python",
   "pygments_lexer": "ipython3",
   "version": "3.8.8"
  }
 },
 "nbformat": 4,
 "nbformat_minor": 5
}
